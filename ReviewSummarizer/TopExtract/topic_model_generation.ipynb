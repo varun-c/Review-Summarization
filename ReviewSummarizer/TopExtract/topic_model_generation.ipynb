{
 "cells": [
  {
   "cell_type": "code",
   "execution_count": 2,
   "metadata": {
    "collapsed": true
   },
   "outputs": [],
   "source": [
    "from nltk.corpus import stopwords\n",
    "import pandas as pd\n",
    "from nltk.stem.wordnet import WordNetLemmatizer\n",
    "import string"
   ]
  },
  {
   "cell_type": "code",
   "execution_count": 44,
   "metadata": {
    "collapsed": false
   },
   "outputs": [
    {
     "name": "stdout",
     "output_type": "stream",
     "text": [
      "96543\n"
     ]
    }
   ],
   "source": [
    "DATA = '../../Data/reviews.csv'\n",
    "df = pd.read_csv(DATA)\n",
    "count = 0\n",
    "docs = []\n",
    "restaurant_review_sentence_map = {}\n",
    "for index, row in df.iterrows():\n",
    "    rest_id = row['id']\n",
    "    text = row['text']\n",
    "    rating = row['stars']\n",
    "    \n",
    "    docs.append(text)\n",
    "    \n",
    "    if rest_id not in restaurant_review_sentence_map.keys():\n",
    "        restaurant_review_sentence_map[rest_id] = {}\n",
    "        for star in range(1,6):\n",
    "            restaurant_review_sentence_map[rest_id][star] = []\n",
    "    \n",
    "    sentences = text.split('.')\n",
    "    for sentence in sentences:\n",
    "        restaurant_review_sentence_map[rest_id][rating].append(sentence)\n",
    "\n",
    "    count += 1\n",
    "print(count)"
   ]
  },
  {
   "cell_type": "code",
   "execution_count": 4,
   "metadata": {
    "collapsed": false,
    "scrolled": true
   },
   "outputs": [],
   "source": [
    "stop = set(stopwords.words('english'))\n",
    "exclude = set(string.punctuation) \n",
    "lemma = WordNetLemmatizer()"
   ]
  },
  {
   "cell_type": "code",
   "execution_count": 5,
   "metadata": {
    "collapsed": false
   },
   "outputs": [],
   "source": [
    "def clean(doc):\n",
    "    stop_free = \" \".join([i for i in doc.lower().split() if i not in stop])\n",
    "    punc_free = ''.join(ch for ch in stop_free if ch not in exclude)\n",
    "    normalized = \" \".join(lemma.lemmatize(word) for word in punc_free.split())\n",
    "    return normalized\n",
    "\n",
    "docs_clean = [clean(doc).split() for doc in docs]"
   ]
  },
  {
   "cell_type": "code",
   "execution_count": 6,
   "metadata": {
    "collapsed": false,
    "scrolled": false
   },
   "outputs": [],
   "source": [
    "import gensim\n",
    "from gensim import corpora\n",
    "\n",
    "# Creating the term dictionary of our courpus, where every unique term is assigned an index. dictionary = corpora.Dictionary(doc_clean)\n",
    "dictionary = corpora.Dictionary(docs_clean)\n",
    "\n",
    "# Converting list of documents (corpus) into Document Term Matrix using dictionary prepared above.\n",
    "doc_term_matrix = [dictionary.doc2bow(doc) for doc in docs_clean]"
   ]
  },
  {
   "cell_type": "code",
   "execution_count": 7,
   "metadata": {
    "collapsed": false,
    "scrolled": true
   },
   "outputs": [
    {
     "name": "stdout",
     "output_type": "stream",
     "text": [
      "268.1303925514221\n"
     ]
    }
   ],
   "source": [
    "import time\n",
    "start = time.time()\n",
    "# Creating the object for LDA model using gensim library\n",
    "Lda = gensim.models.ldamodel.LdaModel\n",
    "\n",
    "# Running and Trainign LDA model on the document term matrix.\n",
    "ldamodel = Lda(doc_term_matrix, num_topics=10, id2word = dictionary, passes=1)\n",
    "end = time.time()\n",
    "print(end - start)"
   ]
  },
  {
   "cell_type": "code",
   "execution_count": 31,
   "metadata": {
    "collapsed": false
   },
   "outputs": [
    {
     "name": "stdout",
     "output_type": "stream",
     "text": [
      "[(0, 0.27872723267331601), (6, 0.45791956307513104), (7, 0.23534549388386319)]\n",
      "[(2, 0.20820803553234662), (4, 0.10358936846660473), (7, 0.65776106163431147)]\n",
      "[(2, 0.29675785247468622), (4, 0.27749362811031558), (6, 0.25094536476488249), (7, 0.14507333106546533), (8, 0.022685913858550448)]\n",
      "[(0, 0.12149424704566701), (1, 0.040884946721853943), (2, 0.09086258775850406), (4, 0.51448564006653297), (5, 0.036250632989081974), (7, 0.18194028808835819), (8, 0.012477060005858428)]\n",
      "[(2, 0.2423334451101089), (6, 0.54076073176602413), (7, 0.18005394893081902)]\n",
      "[(4, 0.52672162470142858), (5, 0.15815975841795823), (7, 0.13229666267807205), (9, 0.17687984752750877)]\n",
      "[(1, 0.23452475792905753), (4, 0.28350050196942644), (5, 0.17931578350006624), (6, 0.28932137590003987)]\n",
      "[(1, 0.044976483324842345), (4, 0.29062138055430226), (5, 0.19476112761466161), (6, 0.16225388434489663), (7, 0.040945090969308616), (9, 0.2635216780951638)]\n",
      "[(0, 0.50050165323505058), (4, 0.24321224127966015), (6, 0.21943432173907781)]\n",
      "[(0, 0.20017712025863468), (2, 0.20681735520684022), (4, 0.37411116762368185), (5, 0.010729210149763271), (7, 0.046321656319532237), (9, 0.1595441732894412)]\n",
      "[(1, 0.06412387317883618), (2, 0.22380323406666838), (4, 0.38915540619817834), (5, 0.080357285748501428), (6, 0.019045365942314981), (7, 0.12162125348439237), (9, 0.095320822100073144)]\n",
      "[(0, 0.083883068592676149), (2, 0.36542477492575415), (4, 0.032701280723949691), (5, 0.197072319987008), (7, 0.15824176873936244), (9, 0.16053734842472575)]\n",
      "[(0, 0.01667319751168083), (1, 0.016668521292671146), (2, 0.44168721766629709), (3, 0.016669785816066467), (4, 0.016670150357351133), (5, 0.016671143015140864), (6, 0.016668017131242479), (7, 0.42495536991347516), (8, 0.016668280314993296), (9, 0.016668316981081555)]\n",
      "[(0, 0.1519902035915473), (1, 0.25743739654927911), (4, 0.31065460559534447), (5, 0.21610917377037256), (6, 0.056664025603768507)]\n",
      "[(2, 0.57005292187269896), (4, 0.31237230744169714), (6, 0.085749644706191702)]\n",
      "[(0, 0.075272524802144039), (2, 0.16118691636467247), (4, 0.41407733343079178), (5, 0.06312565976488263), (6, 0.043608159946983208), (7, 0.15234172714559341), (8, 0.01690439258983829), (9, 0.073034736127753574)]\n",
      "[(1, 0.018851500886880916), (2, 0.40343791193124778), (4, 0.15114075335271202), (5, 0.050512149382417375), (9, 0.37331143153433161)]\n",
      "[(0, 0.080448851571399069), (1, 0.021380603362605343), (2, 0.071827956239915614), (4, 0.17811762603238318), (5, 0.25926483829014219), (6, 0.013714733694852467), (7, 0.35274184750261767), (9, 0.021221272890688182)]\n",
      "[(5, 0.28300097036535987), (7, 0.53346200316813175), (9, 0.16165721137415456)]\n",
      "[(5, 0.12208933742374645), (7, 0.27969501470249403), (9, 0.58524978566902119)]\n"
     ]
    }
   ],
   "source": [
    "for i in range (20):\n",
    "    print(ldamodel[dictionary.doc2bow(docs[i].split())])"
   ]
  },
  {
   "cell_type": "code",
   "execution_count": 49,
   "metadata": {
    "collapsed": true
   },
   "outputs": [],
   "source": [
    "#must be manual\n",
    "topic_aspect_map = {}\n",
    "for topic in range(10):\n",
    "    if topic < 3:\n",
    "        topic_aspect_map[topic] = 'SERVICE'\n",
    "    elif topic < 6:\n",
    "        topic_aspect_map[topic] = 'FOOD'\n",
    "    elif topic < 9:\n",
    "        topic_aspect_map[topic] = 'COST'\n",
    "    else:\n",
    "        topic_aspect_map[topic] = 'AMBIENCE'\n",
    "\n",
    "aspects = ['SERVICE', 'FOOD', 'COST', 'AMBIENCE']\n",
    "threshold = 0.35"
   ]
  },
  {
   "cell_type": "code",
   "execution_count": 54,
   "metadata": {
    "collapsed": false
   },
   "outputs": [
    {
     "name": "stdout",
     "output_type": "stream",
     "text": [
      "LLDGTT7FExklkQvHebEjRg 1\n",
      "mPDE4dMqAyLZNCR-tEYQ5w 2\n",
      "IVc23uY-36WUNYoIbz42Fg 3\n",
      "i3ogCoQD4MY_sR73GCk-BA 4\n",
      "OiCxoAIoBvEWxf7p1qVVmA 5\n",
      "aGbjLWzcrnEx2ZmMCFm3EA 6\n",
      "guLkdetJ603Bw_A6tuecIg 7\n",
      "FV16IeXJp2W6pnghTz2FAw 8\n",
      "eltTG6JOr9cg5FRAgGy8Jw 9\n",
      "szw8OGJlsqaA3i2oe7dn9A 10\n",
      "_xmJB767rROtAy6XepMlkQ 11\n",
      "mxrXVZWc6PWk81gvOVNOUw 12\n",
      "ZgWUM594Yqk52IvBgoIrdA 13\n",
      "Ht8mXLuqJSTPrU9kvzosUA 14\n",
      "zTCCbg7mGslxACL5KlAPIQ 15\n",
      "GhQQsSApIRfUmIcqzmSaGA 16\n",
      "xxOQ7h6s3InV8o8DOVHlMA 17\n",
      "l2lpBXx8jKl87J2szyJRuQ 18\n",
      "-sC66z4SO3tR7nFCjfQwuQ 19\n",
      "HyfFenprdpIA4rmKu6DW3g 20\n",
      "b5cEoKR8iQliq-yT2_O0LQ 21\n",
      "qT4w8n27RBQ_slz_FiK0CQ 22\n",
      "AkOruz5CrCxUmXe1p_WoRg 23\n",
      "v1aLzjTphPc6IGIy9k96vg 24\n",
      "YrIfgzLj0DPStJ1ESAS_Qg 25\n",
      "4UVhuOLaMm2-34SrW8y-ag 26\n",
      "DqY2VlbRuQ3Mu2mlxd4xUQ 27\n",
      "ryvMJK6AlbU35HKrlFT61w 28\n",
      "uYVdp5LfCbX8S8ytnhdk-g 29\n",
      "ntN85eu27C04nwyPa8IHtw 30\n",
      "D_BMUHbZk67hzRcK3xQQmg 31\n",
      "jf67Z1pnwElRSXllpQHiJg 32\n",
      "jh7S78tc9oXCDjAjP_OrLw 33\n",
      "_45p8kOA__aNycVVe-n-KA 34\n",
      "uiadM74nDbEPGeGQFghK0g 35\n",
      "VVeogjZya58oiTxK7qUjAQ 36\n",
      "FURgKkRFtMK5yKbjYZVVwA 37\n",
      "FV0BkoGOd3Yu_eJnXY15ZA 38\n",
      "5paMI5Hhciyl09yGpzdoJw 39\n",
      "SsGNAc9U-aKPZccnaDtFkA 40\n",
      "w4SGmsvFzqyAIs7CSQ_J-g 41\n",
      "blgSBn3CimrCHn2SuZvcZw 42\n",
      "uqisw8IXD5ZutU4MT2MQVw 43\n",
      "aYAlzKHwXQn6JNLweRnZjQ 44\n",
      "3w5gd4EuSc75UKYMJiNUPA 45\n",
      "3OB5gQqibKGTzx9R1w7wKQ 46\n",
      "OE5nAmaSVaopeRS1Cs9Kuw 47\n",
      "cmv6wUUe-H0xRiFEY0__iQ 48\n",
      "8zL3V6rmFKBess3bxPLAoQ 49\n",
      "L9UYbtAUOcfTgZFimehlXw 50\n",
      "lliksv-tglfUz1T3B3vgvA 51\n",
      "iXA8Y2bzvZo8MjALfZxrIg 52\n",
      "jOuERtVf7QePnK9ZcdH5XA 53\n",
      "_FXql6eVhbM923RdCi94SA 54\n",
      "m7icEOgYpM3B8TlbYsKPzg 55\n",
      "V1nEpIRmEa1768oj_tuxeQ 56\n",
      "1yx2zLskVTe5WQdYjL2Apw 57\n",
      "Xhg93cMdemu5pAMkDoEdtQ 58\n",
      "bqYrEwL5xjqv0u8XAij--Q 59\n",
      "JZWCBnrqU27DF8SOQq5yrw 60\n",
      "G0nUhYF2q4tnoOPwCjXLig 61\n",
      "N50HceZf1595UtU867u4uQ 62\n",
      "8Pzdk19tA2bKlKDSgwWqoQ 63\n",
      "rNahhyqDlouyDMHh57p3ug 64\n",
      "HbUQ_3dlm3uCacmhTEMnuA 65\n",
      "25fxw_jOqZtJwl18cCarIA 66\n",
      "CrlViaCIcMeQuZc63tbdQA 67\n",
      "lAher1puKzN9r3LALx-JqQ 68\n",
      "hW0Ne_HTHEAgGF1rAdmR-g 69\n",
      "Az85N0Z4OKxOAzGdigi1nA 70\n",
      "UEUQS4z7s-DRzQjky92KYw 71\n",
      "LwTK65TMrmtjpdZRloQDwg 72\n",
      "WIlklz81DcJkUWJThbnJbQ 73\n",
      "_G5pDGRJL0mhLRgIViW2sA 74\n",
      "cwAd2nytPLKmABtLXsgpIw 75\n",
      "_rrWTz0W1K_eWafh-8r3fA 76\n",
      "eWPFXL1Bmu1ImtIa2Rqliw 77\n",
      "cBpJIOrVXotDI0XAZH_k0g 78\n",
      "W4A_cYOAHhOQ-wb8E7suvg 79\n",
      "EWMwV5V9BxNs_U6nNVMeqw 80\n",
      "iUPJmJvHy9fVfRxsuwwdLQ 81\n",
      "DXkZRQ--Utku9wYbZ97Yjw 82\n",
      "BqrTtox0JbG-P_DKBB5bBw 83\n",
      "wNsmt1hF1uv3YvbwXZMAoQ 84\n",
      "6X9iyuM2XdoCGT4q9qv5cA 85\n",
      "WzDvQdS7MQrWK7vyDjdR4Q 86\n",
      "AtjsjFzalWqJ7S9DUFQ4bw 87\n",
      "adv1-kA6k2N4L-e4zULuNg 88\n",
      "j_pce4pG9krrBeYwUni8Pg 89\n",
      "sIyHTizqAiGu12XMLX3N3g 90\n",
      "m9haUi2_1lHR2eAKBhKwDg 91\n",
      "tFU2Js_nbIZOrnKfYJYBBg 92\n",
      "Lq6CDJ2yHmMs4N7jscQhHQ 93\n",
      "tcphcsPONrP82kUyvcELoA 94\n",
      "uRnyJunCC44SpdPtt1x7xg 95\n",
      "83DsSlg-swjLzmZnUzq2UA 96\n",
      "FqzgT9Y-Yu7jiWdHnGW-kQ 97\n",
      "2ceeU8e3nZjaPfGmLwh4kg 98\n",
      "3MmHmJXr8Ltk_Z5EGE4KUw 99\n",
      "GJp4zTQPPsCEkUitopGfAQ 100\n",
      "1129.567776441574\n"
     ]
    }
   ],
   "source": [
    "start = time.time()\n",
    "res_map = {}\n",
    "count = 1\n",
    "for rest_id, rating_map in restaurant_review_sentence_map.items():\n",
    "    print(rest_id, count)\n",
    "    count += 1\n",
    "    res_map[rest_id] = {}\n",
    "    for aspect in aspects:\n",
    "        res_map[rest_id][aspect] = {}\n",
    "        for rating in range(1,6):\n",
    "            res_map[rest_id][aspect][rating] = []\n",
    "    for rating, sentences in rating_map.items():\n",
    "        for sentence in sentences:\n",
    "            sentence_topics = ldamodel[dictionary.doc2bow(sentence.split())]\n",
    "            for topic, prob in sentence_topics:\n",
    "                if prob > threshold:\n",
    "                    res_map[rest_id][topic_aspect_map[topic]][rating].append(sentence)\n",
    "\n",
    "end = time.time()\n",
    "print(end - start)"
   ]
  }
 ],
 "metadata": {
  "kernelspec": {
   "display_name": "Python 3",
   "language": "python",
   "name": "python3"
  },
  "language_info": {
   "codemirror_mode": {
    "name": "ipython",
    "version": 3.0
   },
   "file_extension": ".py",
   "mimetype": "text/x-python",
   "name": "python",
   "nbconvert_exporter": "python",
   "pygments_lexer": "ipython3",
   "version": "3.5.3"
  }
 },
 "nbformat": 4,
 "nbformat_minor": 0
}