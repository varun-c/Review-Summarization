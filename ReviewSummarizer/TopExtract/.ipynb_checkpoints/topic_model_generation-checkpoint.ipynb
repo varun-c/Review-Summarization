{
 "cells": [
  {
   "cell_type": "code",
   "execution_count": 1,
   "metadata": {
    "collapsed": true
   },
   "outputs": [],
   "source": [
    "from nltk.corpus import stopwords\n",
    "import pandas as pd\n",
    "from nltk.stem.wordnet import WordNetLemmatizer\n",
    "import string"
   ]
  },
  {
   "cell_type": "code",
   "execution_count": 2,
   "metadata": {
    "collapsed": false
   },
   "outputs": [
    {
     "name": "stdout",
     "output_type": "stream",
     "text": [
      "96543\n"
     ]
    }
   ],
   "source": [
    "DATA = '../../Data/reviews.csv'\n",
    "df = pd.read_csv(DATA)\n",
    "count = 0\n",
    "docs = []\n",
    "for index, row in df.iterrows():\n",
    "    docs.append(row[0])\n",
    "    count += 1\n",
    "print(count)"
   ]
  },
  {
   "cell_type": "code",
   "execution_count": 3,
   "metadata": {
    "collapsed": false,
    "scrolled": true
   },
   "outputs": [],
   "source": [
    "stop = set(stopwords.words('english'))\n",
    "exclude = set(string.punctuation) \n",
    "lemma = WordNetLemmatizer()"
   ]
  },
  {
   "cell_type": "code",
   "execution_count": 4,
   "metadata": {
    "collapsed": false
   },
   "outputs": [],
   "source": [
    "def clean(doc):\n",
    "    stop_free = \" \".join([i for i in doc.lower().split() if i not in stop])\n",
    "    punc_free = ''.join(ch for ch in stop_free if ch not in exclude)\n",
    "    normalized = \" \".join(lemma.lemmatize(word) for word in punc_free.split())\n",
    "    return normalized\n",
    "\n",
    "docs_clean = [clean(doc).split() for doc in docs]  "
   ]
  },
  {
   "cell_type": "code",
   "execution_count": 5,
   "metadata": {
    "collapsed": false,
    "scrolled": false
   },
   "outputs": [],
   "source": [
    "import gensim\n",
    "from gensim import corpora\n",
    "\n",
    "# Creating the term dictionary of our courpus, where every unique term is assigned an index. dictionary = corpora.Dictionary(doc_clean)\n",
    "dictionary = corpora.Dictionary(docs_clean)\n",
    "\n",
    "# Converting list of documents (corpus) into Document Term Matrix using dictionary prepared above.\n",
    "doc_term_matrix = [dictionary.doc2bow(doc) for doc in docs_clean]"
   ]
  },
  {
   "cell_type": "code",
   "execution_count": 6,
   "metadata": {
    "collapsed": false
   },
   "outputs": [
    {
     "name": "stdout",
     "output_type": "stream",
     "text": [
      "[(7, 1), (42, 1), (46, 1), (54, 2), (55, 1), (57, 1), (58, 1), (62, 1), (73, 1), (89, 2), (98, 2), (106, 1), (110, 1), (142, 1), (155, 1), (157, 1), (177, 1), (187, 1), (199, 1), (205, 1), (209, 1), (214, 1), (377, 1), (441, 1), (492, 1), (509, 1), (539, 1), (555, 1), (663, 1), (669, 1), (693, 1), (696, 1), (749, 1), (764, 1), (867, 1), (902, 1), (1005, 1), (1153, 1), (1231, 1), (1233, 1), (1277, 1), (1367, 1), (1395, 1), (1594, 1), (1761, 1), (1762, 1), (1763, 1), (1764, 1), (1765, 1), (1766, 1), (1767, 1), (1768, 1)]\n"
     ]
    }
   ],
   "source": [
    "print(doc_term_matrix[55])"
   ]
  },
  {
   "cell_type": "code",
   "execution_count": 7,
   "metadata": {
    "collapsed": true
   },
   "outputs": [],
   "source": [
    "import time\n",
    "start = time.time()\n",
    "# Creating the object for LDA model using gensim library\n",
    "Lda = gensim.models.ldamodel.LdaModel\n",
    "\n",
    "# Running and Trainign LDA model on the document term matrix.\n",
    "ldamodel = Lda(doc_term_matrix, num_topics=10, id2word = dictionary, passes=1)\n",
    "end = time.time()\n",
    "print(end - start)"
   ]
  },
  {
   "cell_type": "code",
   "execution_count": 10,
   "metadata": {
    "collapsed": false
   },
   "outputs": [
    {
     "name": "stdout",
     "output_type": "stream",
     "text": [
      "[(5, '0.028*\"manly\" + 0.025*\"show\" + 0.011*\"carving\" + 0.010*\"text\" + 0.006*\"ribeye\"'), (7, '0.047*\"buffet\" + 0.021*\"vega\" + 0.016*\"it\" + 0.015*\"sushi\" + 0.011*\"station\"'), (6, '0.018*\"bun\" + 0.015*\"taco\" + 0.013*\"bacchanal\" + 0.010*\"beer\" + 0.008*\"breakfast\"')]\n"
     ]
    }
   ],
   "source": [
    "print(ldamodel.print_topics(num_topics=3, num_words=5))"
   ]
  }
 ],
 "metadata": {
  "kernelspec": {
   "display_name": "Python 3",
   "language": "python",
   "name": "python3"
  },
  "language_info": {
   "codemirror_mode": {
    "name": "ipython",
    "version": 3
   },
   "file_extension": ".py",
   "mimetype": "text/x-python",
   "name": "python",
   "nbconvert_exporter": "python",
   "pygments_lexer": "ipython3",
   "version": "3.5.3"
  }
 },
 "nbformat": 4,
 "nbformat_minor": 2
}
